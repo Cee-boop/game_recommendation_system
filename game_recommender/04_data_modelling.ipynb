{
 "cells": [
  {
   "cell_type": "markdown",
   "id": "68bf4c68-4214-4048-96f5-e0e58ced77b2",
   "metadata": {},
   "source": [
    "# Game Recommender — Data Modelling"
   ]
  },
  {
   "cell_type": "code",
   "execution_count": 41,
   "id": "044a528c-4c7d-414e-9c10-5c11d2923bad",
   "metadata": {},
   "outputs": [],
   "source": [
    "# General \n",
    "import re\n",
    "import numpy as np\n",
    "import pandas as pd\n",
    "from tqdm.notebook import tqdm\n",
    "\n",
    "# ML\n",
    "from sklearn.feature_extraction.text import TfidfVectorizer\n",
    "from sklearn.metrics.pairwise import cosine_similarity\n",
    "\n",
    "# Utility\n",
    "import pickle\n",
    "import unidecode\n",
    "from ast import literal_eval\n",
    "import random\n",
    "\n",
    "import warnings\n",
    "warnings.simplefilter('ignore')"
   ]
  },
  {
   "cell_type": "markdown",
   "id": "931d31a4-bd1b-4b58-bbd6-9c70b6b118ea",
   "metadata": {},
   "source": [
    "Load in data:"
   ]
  },
  {
   "cell_type": "code",
   "execution_count": 42,
   "id": "3d333792-8b0e-4b9e-87ad-58e0b23d9092",
   "metadata": {},
   "outputs": [
    {
     "data": {
      "text/html": [
       "<div>\n",
       "<style scoped>\n",
       "    .dataframe tbody tr th:only-of-type {\n",
       "        vertical-align: middle;\n",
       "    }\n",
       "\n",
       "    .dataframe tbody tr th {\n",
       "        vertical-align: top;\n",
       "    }\n",
       "\n",
       "    .dataframe thead th {\n",
       "        text-align: right;\n",
       "    }\n",
       "</style>\n",
       "<table border=\"1\" class=\"dataframe\">\n",
       "  <thead>\n",
       "    <tr style=\"text-align: right;\">\n",
       "      <th></th>\n",
       "      <th>game_title</th>\n",
       "      <th>dev_team</th>\n",
       "      <th>platforms</th>\n",
       "      <th>primary_tags</th>\n",
       "      <th>keywords</th>\n",
       "      <th>game_summary</th>\n",
       "      <th>rake_summary</th>\n",
       "      <th>lemma_summary</th>\n",
       "    </tr>\n",
       "  </thead>\n",
       "  <tbody>\n",
       "    <tr>\n",
       "      <th>488</th>\n",
       "      <td>Abzu</td>\n",
       "      <td>['505games', 'giantsquid']</td>\n",
       "      <td>['pc', 'playstation4', 'xboxone', 'nintendoswi...</td>\n",
       "      <td>['educational', 'puzzle', 'singleplayer', 'sim...</td>\n",
       "      <td>['exploration', 'dinosaurs', 'underwater', 'sh...</td>\n",
       "      <td>Abzu is an exploration game where you are a lo...</td>\n",
       "      <td>NaN</td>\n",
       "      <td>abzu exploration game lone diver lush ocean di...</td>\n",
       "    </tr>\n",
       "    <tr>\n",
       "      <th>1285</th>\n",
       "      <td>JoJo’s Bizarre Adventure: All-Star Battle R</td>\n",
       "      <td>['bandainamcoentertainment', 'cyberconnect2']</td>\n",
       "      <td>['pc', 'playstation4', 'xboxone', 'nintendoswi...</td>\n",
       "      <td>['multiplayer', 'singleplayer', 'cooperative',...</td>\n",
       "      <td>[]</td>\n",
       "      <td>A remaster of the fighting game \"JoJo's Bizarr...</td>\n",
       "      <td>NaN</td>\n",
       "      <td>remaster fighting game jojo bizarre adventure ...</td>\n",
       "    </tr>\n",
       "    <tr>\n",
       "      <th>198</th>\n",
       "      <td>Silent Hill 3</td>\n",
       "      <td>['teamsilent', 'konami']</td>\n",
       "      <td>['playstation3', 'xbox360']</td>\n",
       "      <td>['puzzle', 'horror', 'singleplayer', 'survival...</td>\n",
       "      <td>[]</td>\n",
       "      <td>Silent Hill 3 is the third installment in the ...</td>\n",
       "      <td>survival horror combine action</td>\n",
       "      <td>silent hill installment silent hill series pre...</td>\n",
       "    </tr>\n",
       "  </tbody>\n",
       "</table>\n",
       "</div>"
      ],
      "text/plain": [
       "                                       game_title  \\\n",
       "488                                          Abzu   \n",
       "1285  JoJo’s Bizarre Adventure: All-Star Battle R   \n",
       "198                                 Silent Hill 3   \n",
       "\n",
       "                                           dev_team  \\\n",
       "488                      ['505games', 'giantsquid']   \n",
       "1285  ['bandainamcoentertainment', 'cyberconnect2']   \n",
       "198                        ['teamsilent', 'konami']   \n",
       "\n",
       "                                              platforms  \\\n",
       "488   ['pc', 'playstation4', 'xboxone', 'nintendoswi...   \n",
       "1285  ['pc', 'playstation4', 'xboxone', 'nintendoswi...   \n",
       "198                         ['playstation3', 'xbox360']   \n",
       "\n",
       "                                           primary_tags  \\\n",
       "488   ['educational', 'puzzle', 'singleplayer', 'sim...   \n",
       "1285  ['multiplayer', 'singleplayer', 'cooperative',...   \n",
       "198   ['puzzle', 'horror', 'singleplayer', 'survival...   \n",
       "\n",
       "                                               keywords  \\\n",
       "488   ['exploration', 'dinosaurs', 'underwater', 'sh...   \n",
       "1285                                                 []   \n",
       "198                                                  []   \n",
       "\n",
       "                                           game_summary  \\\n",
       "488   Abzu is an exploration game where you are a lo...   \n",
       "1285  A remaster of the fighting game \"JoJo's Bizarr...   \n",
       "198   Silent Hill 3 is the third installment in the ...   \n",
       "\n",
       "                        rake_summary  \\\n",
       "488                              NaN   \n",
       "1285                             NaN   \n",
       "198   survival horror combine action   \n",
       "\n",
       "                                          lemma_summary  \n",
       "488   abzu exploration game lone diver lush ocean di...  \n",
       "1285  remaster fighting game jojo bizarre adventure ...  \n",
       "198   silent hill installment silent hill series pre...  "
      ]
     },
     "execution_count": 42,
     "metadata": {},
     "output_type": "execute_result"
    }
   ],
   "source": [
    "df = pd.read_csv('datasets/processed/games_PROCESSED.csv')\n",
    "df.sample(3)"
   ]
  },
  {
   "cell_type": "code",
   "execution_count": 43,
   "id": "79bec62d-ba80-44eb-b878-399d808e6537",
   "metadata": {},
   "outputs": [],
   "source": [
    "# Convert list-like columns to Python lists\n",
    "df['dev_team'] = df['dev_team'].apply(literal_eval)\n",
    "df['platforms'] = df['platforms'].apply(literal_eval)\n",
    "df['primary_tags'] = df['primary_tags'].apply(literal_eval)"
   ]
  },
  {
   "cell_type": "markdown",
   "id": "941dc906-eb79-4c17-8e20-08c3565ed0dd",
   "metadata": {},
   "source": [
    "Build corpus:"
   ]
  },
  {
   "cell_type": "code",
   "execution_count": 44,
   "id": "7e717bd2-609a-4c3a-a26d-18468175f23f",
   "metadata": {},
   "outputs": [
    {
     "data": {
      "application/vnd.jupyter.widget-view+json": {
       "model_id": "82dfc1e46733495ca8cd9ad499561ebd",
       "version_major": 2,
       "version_minor": 0
      },
      "text/plain": [
       "HBox(children=(FloatProgress(value=0.0, max=1351.0), HTML(value='')))"
      ]
     },
     "metadata": {},
     "output_type": "display_data"
    },
    {
     "name": "stdout",
     "output_type": "stream",
     "text": [
      "\n",
      "DOC SAMPLE:\n",
      " platform singleplayer multiplayer action 2d game character feature adventure include original release sonic nintendo element multiplayer introduce title\n"
     ]
    },
    {
     "data": {
      "text/html": [
       "<div>\n",
       "<style scoped>\n",
       "    .dataframe tbody tr th:only-of-type {\n",
       "        vertical-align: middle;\n",
       "    }\n",
       "\n",
       "    .dataframe tbody tr th {\n",
       "        vertical-align: top;\n",
       "    }\n",
       "\n",
       "    .dataframe thead th {\n",
       "        text-align: right;\n",
       "    }\n",
       "</style>\n",
       "<table border=\"1\" class=\"dataframe\">\n",
       "  <thead>\n",
       "    <tr style=\"text-align: right;\">\n",
       "      <th></th>\n",
       "      <th>game_title</th>\n",
       "      <th>doc</th>\n",
       "      <th>game_summary</th>\n",
       "      <th>tags</th>\n",
       "    </tr>\n",
       "  </thead>\n",
       "  <tbody>\n",
       "    <tr>\n",
       "      <th>1229</th>\n",
       "      <td>Fire Emblem Fates: Birthright</td>\n",
       "      <td>drama turnbasedstrategy singleplayer multiplay...</td>\n",
       "      <td>Fire Emblem Fates is split into three story pa...</td>\n",
       "      <td>[drama, turnbasedstrategy, singleplayer, multi...</td>\n",
       "    </tr>\n",
       "    <tr>\n",
       "      <th>666</th>\n",
       "      <td>Mario &amp; Luigi: Brothership</td>\n",
       "      <td>comedy platform singleplayer adventure rpg coo...</td>\n",
       "      <td>The brothers return for a brand new adventure ...</td>\n",
       "      <td>[comedy, platform, singleplayer, adventure, rp...</td>\n",
       "    </tr>\n",
       "  </tbody>\n",
       "</table>\n",
       "</div>"
      ],
      "text/plain": [
       "                         game_title  \\\n",
       "1229  Fire Emblem Fates: Birthright   \n",
       "666      Mario & Luigi: Brothership   \n",
       "\n",
       "                                                    doc  \\\n",
       "1229  drama turnbasedstrategy singleplayer multiplay...   \n",
       "666   comedy platform singleplayer adventure rpg coo...   \n",
       "\n",
       "                                           game_summary  \\\n",
       "1229  Fire Emblem Fates is split into three story pa...   \n",
       "666   The brothers return for a brand new adventure ...   \n",
       "\n",
       "                                                   tags  \n",
       "1229  [drama, turnbasedstrategy, singleplayer, multi...  \n",
       "666   [comedy, platform, singleplayer, adventure, rp...  "
      ]
     },
     "execution_count": 44,
     "metadata": {},
     "output_type": "execute_result"
    }
   ],
   "source": [
    "# Format documents\n",
    "doc_data = []\n",
    "\n",
    "for index, row in tqdm(df.iterrows(), total=len(df)):\n",
    "    game_tags = row['primary_tags']\n",
    "    document = \" \".join(game_tags)\n",
    "    if document.strip():\n",
    "        doc_data.append([row['game_title'], document, row['game_summary'], game_tags])\n",
    "\n",
    "# Add doc data to a new dataframe\n",
    "corpus_df = pd.DataFrame(data=doc_data, columns=['game_title', 'doc', 'game_summary', 'tags'])\n",
    "print('DOC SAMPLE:\\n', corpus_df['doc'].iloc[random.randint(0, len(corpus_df) - 1)])\n",
    "corpus_df.sample(2)"
   ]
  },
  {
   "cell_type": "code",
   "execution_count": 45,
   "id": "3396dec7-d039-42b0-a97f-48362a46858d",
   "metadata": {},
   "outputs": [],
   "source": [
    "# Strip accents\n",
    "corpus_df['game_title'] = corpus_df['game_title'].apply(lambda x: unidecode.unidecode(x))"
   ]
  },
  {
   "cell_type": "markdown",
   "id": "61ed8094-0658-4b8b-b902-34ea6f68cbf9",
   "metadata": {},
   "source": [
    "Save corpus dataset:"
   ]
  },
  {
   "cell_type": "code",
   "execution_count": 46,
   "id": "1bf91aa8-25f5-44a6-b7e0-6fb19b1a5275",
   "metadata": {},
   "outputs": [],
   "source": [
    "corpus_df.to_csv('datasets/processed/game_corpus.csv', index=False)"
   ]
  },
  {
   "cell_type": "markdown",
   "id": "3a2ce231-bbc5-428d-bbd5-ab6937d56cb8",
   "metadata": {},
   "source": [
    "TF-iDF Modelling Demo:"
   ]
  },
  {
   "cell_type": "code",
   "execution_count": 47,
   "id": "15279965-b208-461e-beba-504eb4b74f46",
   "metadata": {},
   "outputs": [
    {
     "data": {
      "text/plain": [
       "<1351x261 sparse matrix of type '<class 'numpy.float64'>'\n",
       "\twith 33413 stored elements in Compressed Sparse Row format>"
      ]
     },
     "execution_count": 47,
     "metadata": {},
     "output_type": "execute_result"
    }
   ],
   "source": [
    "game_titles, game_summary, tags, corpus = corpus_df['game_title'], corpus_df['game_summary'], corpus_df['tags'], corpus_df['doc']\n",
    "\n",
    "# Create a term document matrix\n",
    "vectorizer = TfidfVectorizer(strip_accents='ascii')\n",
    "tdm = vectorizer.fit_transform(corpus)\n",
    "tdm"
   ]
  },
  {
   "cell_type": "code",
   "execution_count": 54,
   "id": "f6e41cd8-7e55-4cdd-8b9e-99afe1b519e2",
   "metadata": {},
   "outputs": [
    {
     "name": "stdin",
     "output_type": "stream",
     "text": [
      "Showing recommendations for: Neon White\n"
     ]
    },
    {
     "name": "stdout",
     "output_type": "stream",
     "text": [
      "TAGS: ['shooter', 'platform', 'singleplayer', 'indie', 'visualnovel', 'action', 'assassin', 'fantasy', 'game', 'action', 'life', 'live', 'demon', 'firstperson'] \n",
      "\n",
      "Postal 2\n",
      "Until Then\n",
      "Bayonetta 2\n",
      "Devil May Cry 3: Dante's Awakening\n",
      "Half-Life 2: Episode Two\n",
      "Coffee Talk\n",
      "Doom\n",
      "Devil May Cry 5\n",
      "Tsukihime: A Piece of Blue Glass Moon\n",
      "The Finals\n"
     ]
    }
   ],
   "source": [
    "game_index_map = pd.Series(corpus_df.index, index=corpus_df['game_title'])\n",
    "\n",
    "# query_index = random.randint(0, len(corpus_df) - 1)  # Picks random title from game index map\n",
    "query_title = input(f\"Showing recommendations for:\").strip()\n",
    "query_vector = tdm[game_index_map[query_title]]\n",
    "\n",
    "# Get cosine similarity / euclidian distance of all vectors -> sort in descending order\n",
    "cos_sim_series = pd.Series(cosine_similarity(query_vector, tdm).flatten(), name='cos_sim')\n",
    "rec_df = pd.concat([game_titles, game_summary, cos_sim_series, tags], axis=1).sort_values(['cos_sim'], ascending=False)\n",
    "\n",
    "counter = 0\n",
    "for index, row in rec_df.iterrows():\n",
    "    if row['game_title'] != query_title:\n",
    "        print(f\"{row['game_title']}\")\n",
    "        counter += 1\n",
    "        if counter == 10: break\n",
    "    else:\n",
    "        print('TAGS:', row['tags'], '\\n')"
   ]
  },
  {
   "cell_type": "markdown",
   "id": "50454a99-52fd-4d86-95e7-d1affce8e28d",
   "metadata": {},
   "source": [
    "Save model:"
   ]
  },
  {
   "cell_type": "code",
   "execution_count": 55,
   "id": "b89ce3df-9712-45fe-b6f5-7f8ac3793e3b",
   "metadata": {},
   "outputs": [],
   "source": [
    "def save_model(model):\n",
    "    with open('model/game_rec_model.pkl', 'wb') as file:\n",
    "        pickle.dump(model, file)\n",
    "\n",
    "save_model(tdm)"
   ]
  }
 ],
 "metadata": {
  "kernelspec": {
   "display_name": "Python 3 (ipykernel)",
   "language": "python",
   "name": "python3"
  },
  "language_info": {
   "codemirror_mode": {
    "name": "ipython",
    "version": 3
   },
   "file_extension": ".py",
   "mimetype": "text/x-python",
   "name": "python",
   "nbconvert_exporter": "python",
   "pygments_lexer": "ipython3",
   "version": "3.9.5"
  }
 },
 "nbformat": 4,
 "nbformat_minor": 5
}
