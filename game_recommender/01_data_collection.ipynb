{
 "cells": [
  {
   "cell_type": "markdown",
   "id": "c91262bc-e304-4b6a-8049-957c3bb4af09",
   "metadata": {},
   "source": [
    "# Game Recommender — Compile Data"
   ]
  },
  {
   "cell_type": "markdown",
   "id": "b24de096-8b0c-481f-a591-c89df7c9af57",
   "metadata": {},
   "source": [
    "All data is extracted from [Backloggd](https://backloggd.com/games/lib/popular/) and [IGDB](https://www.igdb.com/)."
   ]
  },
  {
   "cell_type": "code",
   "execution_count": 1,
   "id": "fd318b18-2fe0-40ef-8ff9-841d6bfe0939",
   "metadata": {},
   "outputs": [],
   "source": [
    "# General\n",
    "import re\n",
    "import numpy as np\n",
    "import pandas as pd\n",
    "from tqdm.notebook import tqdm\n",
    "\n",
    "# Web scraping\n",
    "import requests\n",
    "from bs4 import BeautifulSoup\n",
    "\n",
    "# Utility\n",
    "import time\n",
    "import unidecode\n",
    "\n",
    "import warnings\n",
    "warnings.simplefilter('ignore')"
   ]
  },
  {
   "cell_type": "markdown",
   "id": "df8478f2-3374-4726-980e-e6648208cff5",
   "metadata": {},
   "source": [
    "Extract trending game titles, dev / genre tags and game summaries from Backloggd:"
   ]
  },
  {
   "cell_type": "code",
   "execution_count": 2,
   "id": "c7181d29-9c4c-4331-9265-64d7e208c199",
   "metadata": {},
   "outputs": [],
   "source": [
    "BASE_URL = 'https://backloggd.com/'\n",
    "SEARCH_URL = \"https://backloggd.com/games/lib/popular?page=\""
   ]
  },
  {
   "cell_type": "code",
   "execution_count": 3,
   "id": "380c1959-c0e7-484f-ac14-57fe3e2a6ba5",
   "metadata": {},
   "outputs": [
    {
     "data": {
      "application/vnd.jupyter.widget-view+json": {
       "model_id": "26e650832a1f419bba7a06dfe6d79a5f",
       "version_major": 2,
       "version_minor": 0
      },
      "text/plain": [
       "HBox(children=(FloatProgress(value=0.0, max=40.0), HTML(value='')))"
      ]
     },
     "metadata": {},
     "output_type": "display_data"
    },
    {
     "name": "stdout",
     "output_type": "stream",
     "text": [
      "\n"
     ]
    }
   ],
   "source": [
    "game_data = []\n",
    "\n",
    "for page_number in tqdm(range(1, 41), total=40):\n",
    "    response = requests.get(f\"{SEARCH_URL}{page_number}\")\n",
    "    soup = BeautifulSoup(response.content, 'html.parser')\n",
    "\n",
    "    try:\n",
    "        # Fetch game titles along with href link to the game's info page\n",
    "        for div in soup.find_all('div', {'class': 'col-2 my-2 px-1 px-md-2'}):\n",
    "            title, game_info_url = div.div.text.strip(), div.a['href']\n",
    "            game_data.append([title, f\"{BASE_URL}{game_info_url}\"])\n",
    "    except Exception as e:\n",
    "        print(f\"Error at page number: {page_number} — {e}\")"
   ]
  },
  {
   "cell_type": "code",
   "execution_count": 4,
   "id": "19552cfc-e8f4-4a5d-a1d0-0b8f55784604",
   "metadata": {},
   "outputs": [
    {
     "name": "stdout",
     "output_type": "stream",
     "text": [
      "[['Elden Ring', 'https://backloggd.com//games/elden-ring/'], ['The Legend of Zelda: Tears of the Kingdom', 'https://backloggd.com//games/the-legend-of-zelda-tears-of-the-kingdom/'], [\"Baldur's Gate 3\", 'https://backloggd.com//games/baldurs-gate-3/'], ['The Legend of Zelda: Breath of the Wild', 'https://backloggd.com//games/the-legend-of-zelda-breath-of-the-wild/'], ['Hades', 'https://backloggd.com//games/hades--1/']]\n"
     ]
    }
   ],
   "source": [
    "print(game_data[:5])"
   ]
  },
  {
   "cell_type": "code",
   "execution_count": 5,
   "id": "5bed96f3-b634-4a90-9697-d80575f71ea1",
   "metadata": {},
   "outputs": [
    {
     "data": {
      "application/vnd.jupyter.widget-view+json": {
       "model_id": "c44145f3c4bc4c8c9107f0720feb4085",
       "version_major": 2,
       "version_minor": 0
      },
      "text/plain": [
       "HBox(children=(FloatProgress(value=0.0, max=1440.0), HTML(value='')))"
      ]
     },
     "metadata": {},
     "output_type": "display_data"
    },
    {
     "name": "stdout",
     "output_type": "stream",
     "text": [
      "Error at index pos; 1017, Silent Hill 2: Enhanced Edition – 'NoneType' object has no attribute 'text'\n",
      "\n"
     ]
    }
   ],
   "source": [
    "for i in tqdm(range(len(game_data)), total=len(game_data)):\n",
    "    game_title, game_info_url = game_data[i][0], game_data[i][1]\n",
    "    \n",
    "    response = requests.get(game_info_url)\n",
    "    soup = BeautifulSoup(response.content, 'html.parser')\n",
    "\n",
    "    try:\n",
    "        # Split dev tags and remove additional whitespace from each string\n",
    "        developers = [\n",
    "            re.sub('\\s+', ' ', dev_name).strip() for dev_name in\\\n",
    "            soup.find('div', {'class': 'col-auto pl-lg-1 sub-title'})\\\n",
    "            .text.replace('by\\n', '').strip().split(',')\n",
    "        ]\n",
    "        \n",
    "        genre_tags = [tag.text for tag in soup.find_all('p', {'class': 'genre-tag'})]\n",
    "        game_summary = soup.find('div', {'id': 'collapseSummary'}).text.strip()\n",
    "    except Exception as e:\n",
    "        print(f\"Error at index pos; {i}, {game_title} – {e}\")\n",
    "        continue\n",
    "\n",
    "    # Store data in new_games_df\n",
    "    game_data[i].append(developers)\n",
    "    game_data[i].append(genre_tags)\n",
    "    game_data[i].append(game_summary)"
   ]
  },
  {
   "cell_type": "code",
   "execution_count": 12,
   "id": "3e2ea308-124e-45c2-b9e9-c543879702b8",
   "metadata": {},
   "outputs": [
    {
     "data": {
      "text/plain": [
       "['Elden Ring',\n",
       " 'https://backloggd.com//games/elden-ring/',\n",
       " ['FromSoftware', 'Bandai Namco Entertainment'],\n",
       " ['Adventure', 'RPG'],\n",
       " 'Elden Ring is an action RPG developed by FromSoftware and published by Bandai Namco Entertainment, released in February 2022. Directed by Hidetaka Miyazaki, with world-building contributions from novelist George R. R. Martin, the game features an expansive open world called the Lands Between. Players assume the role of a customisable character known as the Tarnished, who must explore this world, battle formidable enemies, and seek to restore the Elden Ring to become the Elden Lord.\\n\\nThe game builds on the challenging gameplay mechanics familiar from the Dark Souls series but introduces a more open-ended structure with vast exploration, dynamic weather, and a day-night cycle. It offers deep lore, complex characters, and an interconnected world filled with secrets, dungeons, and powerful bosses.']"
      ]
     },
     "execution_count": 12,
     "metadata": {},
     "output_type": "execute_result"
    }
   ],
   "source": [
    "# Sample row of data\n",
    "game_data[0]"
   ]
  },
  {
   "cell_type": "code",
   "execution_count": 11,
   "id": "e4954667-651f-4be3-9a9f-7e741ed9b36c",
   "metadata": {},
   "outputs": [],
   "source": [
    "def reset_data(data: list) -> list:\n",
    "    return [entry[:5] for entry in data]\n",
    "\n",
    "game_data = reset_data(game_data)"
   ]
  },
  {
   "cell_type": "markdown",
   "id": "17087ef8-1ffe-40c5-bdbd-f12d1ee9371e",
   "metadata": {},
   "source": [
    "Extract more tags from IGDB (platform, themes, storyline, game modes, keywords):"
   ]
  },
  {
   "cell_type": "code",
   "execution_count": 8,
   "id": "73a660cb-e009-4f28-b506-7b1fce52e047",
   "metadata": {},
   "outputs": [],
   "source": [
    "# API info for IGDB\n",
    "API_URL = 'https://api.igdb.com/v4/games/'\n",
    "CLIENT_ID = '7w2gvan50xfhdyjrjnshmx6o82tmtc'\n",
    "CLIENT_SECRET = '4avly364nhovv2faj4d5l8pypeonmv'\n",
    "\n",
    "# Get access token\n",
    "post_url = 'https://id.twitch.tv/oauth2/token?'\n",
    "params = {'client_id': CLIENT_ID, 'client_secret': CLIENT_SECRET, 'grant_type': 'client_credentials'}\n",
    "response = requests.post(post_url, params=params)\n",
    "access_token = response.json()['access_token']"
   ]
  },
  {
   "cell_type": "code",
   "execution_count": 13,
   "id": "88400167-8bc9-48ca-b97e-c0598b524239",
   "metadata": {},
   "outputs": [
    {
     "data": {
      "application/vnd.jupyter.widget-view+json": {
       "model_id": "708fa0a69a7f47cfba1297314eb5d76c",
       "version_major": 2,
       "version_minor": 0
      },
      "text/plain": [
       "HBox(children=(FloatProgress(value=0.0, max=1440.0), HTML(value='')))"
      ]
     },
     "metadata": {},
     "output_type": "display_data"
    },
    {
     "name": "stdout",
     "output_type": "stream",
     "text": [
      "Error at index pos: 705, God of War Ragnarok: Valhalla — list index out of range\n",
      "Error at index pos: 939, Off — list index out of range\n",
      "Error at index pos: 1199, Sid Meier's Civilization V — 0\n",
      "Error at index pos: 1201, Until Then — list index out of range\n",
      "Error at index pos: 1202, Shin Megami Tensei IV: Apocalypse — 0\n",
      "Error at index pos: 1205, Wordle — 0\n",
      "Error at index pos: 1207, Fate/Samurai Remnant — 0\n",
      "Error at index pos: 1210, Doom 3 — 0\n",
      "Error at index pos: 1211, Captain Toad: Treasure Tracker — 0\n",
      "Error at index pos: 1231, Castlevania: Circle of the Moon — 0\n",
      "Error at index pos: 1239, Danganronpa Another Episode: Ultra Despair Girls — 0\n",
      "Error at index pos: 1240, Final Fantasy VIII Remastered — 0\n",
      "Error at index pos: 1267, Pokemon Pearl Version — 0\n",
      "Error at index pos: 1292, Chained Together — 0\n",
      "Error at index pos: 1365, Rhythm Heaven Fever — 0\n",
      "Error at index pos: 1399, Chrono Trigger — 0\n",
      "Error at index pos: 1406, Batman: Arkham City - Game of the Year Edition — 0\n",
      "Error at index pos: 1421, Nobody Wants to Die — 0\n",
      "\n"
     ]
    }
   ],
   "source": [
    "for i in tqdm(range(len(game_data)), total=len(game_data)):\n",
    "    game_title = unidecode.unidecode(game_data[i][0])\n",
    "    game_query = f'search \"{game_title}\"; fields themes.*,game_modes.*,storyline,platforms.*,keywords.*,player_perspectives.*;'\n",
    "    api_headers = {'headers': {'Client-ID': CLIENT_ID, 'Authorization': f'Bearer {access_token}'}, 'data': game_query}\n",
    "\n",
    "    # Exception for pasring errors with API\n",
    "    try:\n",
    "        response = requests.post(API_URL, **api_headers)\n",
    "        query_data = response.json()[0]\n",
    "    except Exception as e:\n",
    "        print(f\"Error at index pos: {i}, {game_title} — {e}\")\n",
    "\n",
    "    for column_key in ['storyline', 'platforms', 'game_modes', 'themes', 'keywords', 'player_perspectives']:\n",
    "        # Exception for missing data in query data\n",
    "        try:\n",
    "            if column_key == 'storyline':\n",
    "                game_data[i].append(query_data[column_key])\n",
    "            else:\n",
    "                game_data[i].append([data['name'] for data in query_data[column_key]])\n",
    "        except Exception as e:\n",
    "            game_data[i].append([])\n",
    "\n",
    "    time.sleep(0.5)"
   ]
  },
  {
   "cell_type": "code",
   "execution_count": 14,
   "id": "286c5afe-beb0-43b8-bb0c-92a0316b1326",
   "metadata": {},
   "outputs": [
    {
     "data": {
      "text/html": [
       "<div>\n",
       "<style scoped>\n",
       "    .dataframe tbody tr th:only-of-type {\n",
       "        vertical-align: middle;\n",
       "    }\n",
       "\n",
       "    .dataframe tbody tr th {\n",
       "        vertical-align: top;\n",
       "    }\n",
       "\n",
       "    .dataframe thead th {\n",
       "        text-align: right;\n",
       "    }\n",
       "</style>\n",
       "<table border=\"1\" class=\"dataframe\">\n",
       "  <thead>\n",
       "    <tr style=\"text-align: right;\">\n",
       "      <th></th>\n",
       "      <th>game_title</th>\n",
       "      <th>dev_team</th>\n",
       "      <th>genre_tags</th>\n",
       "      <th>game_summary</th>\n",
       "      <th>storyline</th>\n",
       "      <th>platforms</th>\n",
       "      <th>game_modes</th>\n",
       "      <th>themes</th>\n",
       "      <th>keywords</th>\n",
       "      <th>perspectives</th>\n",
       "    </tr>\n",
       "  </thead>\n",
       "  <tbody>\n",
       "    <tr>\n",
       "      <th>97</th>\n",
       "      <td>Resident Evil 3</td>\n",
       "      <td>[K2, Capcom]</td>\n",
       "      <td>[Adventure, Shooter]</td>\n",
       "      <td>Resident Evil 3 is a remake of the original Re...</td>\n",
       "      <td>A series of strange disappearances have been o...</td>\n",
       "      <td>[PC (Microsoft Windows), PlayStation 4, Xbox O...</td>\n",
       "      <td>[Single player, Multiplayer]</td>\n",
       "      <td>[Action, Horror, Survival]</td>\n",
       "      <td>[zombies, survival horror]</td>\n",
       "      <td>[Third person]</td>\n",
       "    </tr>\n",
       "    <tr>\n",
       "      <th>617</th>\n",
       "      <td>Black Mesa</td>\n",
       "      <td>[Crowbar Collective]</td>\n",
       "      <td>[Adventure, Indie, Platform, Shooter]</td>\n",
       "      <td>Black Mesa is a re-envisioning of Valve Softwa...</td>\n",
       "      <td>The plot of Black Mesa is almost identical to ...</td>\n",
       "      <td>[Linux, PC (Microsoft Windows)]</td>\n",
       "      <td>[Single player, Multiplayer]</td>\n",
       "      <td>[Action, Science fiction, Warfare]</td>\n",
       "      <td>[aliens, assassin, bloody, first person shoote...</td>\n",
       "      <td>[First person]</td>\n",
       "    </tr>\n",
       "    <tr>\n",
       "      <th>709</th>\n",
       "      <td>Triangle Strategy</td>\n",
       "      <td>[Square Enix Creative Business Unit II, Nintendo]</td>\n",
       "      <td>[RPG, Strategy, Tactical, Turn Based Strategy]</td>\n",
       "      <td>Three nations battle for control of the dwindl...</td>\n",
       "      <td>Command a group of warriors as Serenoa, heir o...</td>\n",
       "      <td>[PC (Microsoft Windows), Nintendo Switch]</td>\n",
       "      <td>[Single player]</td>\n",
       "      <td>[Fantasy]</td>\n",
       "      <td>[2.5d, turn-based tactics, game with chapters]</td>\n",
       "      <td>[Bird view / Isometric]</td>\n",
       "    </tr>\n",
       "  </tbody>\n",
       "</table>\n",
       "</div>"
      ],
      "text/plain": [
       "            game_title                                           dev_team  \\\n",
       "97     Resident Evil 3                                       [K2, Capcom]   \n",
       "617         Black Mesa                               [Crowbar Collective]   \n",
       "709  Triangle Strategy  [Square Enix Creative Business Unit II, Nintendo]   \n",
       "\n",
       "                                         genre_tags  \\\n",
       "97                             [Adventure, Shooter]   \n",
       "617           [Adventure, Indie, Platform, Shooter]   \n",
       "709  [RPG, Strategy, Tactical, Turn Based Strategy]   \n",
       "\n",
       "                                          game_summary  \\\n",
       "97   Resident Evil 3 is a remake of the original Re...   \n",
       "617  Black Mesa is a re-envisioning of Valve Softwa...   \n",
       "709  Three nations battle for control of the dwindl...   \n",
       "\n",
       "                                             storyline  \\\n",
       "97   A series of strange disappearances have been o...   \n",
       "617  The plot of Black Mesa is almost identical to ...   \n",
       "709  Command a group of warriors as Serenoa, heir o...   \n",
       "\n",
       "                                             platforms  \\\n",
       "97   [PC (Microsoft Windows), PlayStation 4, Xbox O...   \n",
       "617                    [Linux, PC (Microsoft Windows)]   \n",
       "709          [PC (Microsoft Windows), Nintendo Switch]   \n",
       "\n",
       "                       game_modes                              themes  \\\n",
       "97   [Single player, Multiplayer]          [Action, Horror, Survival]   \n",
       "617  [Single player, Multiplayer]  [Action, Science fiction, Warfare]   \n",
       "709               [Single player]                           [Fantasy]   \n",
       "\n",
       "                                              keywords  \\\n",
       "97                          [zombies, survival horror]   \n",
       "617  [aliens, assassin, bloody, first person shoote...   \n",
       "709     [2.5d, turn-based tactics, game with chapters]   \n",
       "\n",
       "                perspectives  \n",
       "97            [Third person]  \n",
       "617           [First person]  \n",
       "709  [Bird view / Isometric]  "
      ]
     },
     "execution_count": 14,
     "metadata": {},
     "output_type": "execute_result"
    }
   ],
   "source": [
    "# Store game data in dataframe\n",
    "df_columns = [\n",
    "    'game_title', 'game_info_url', 'dev_team',\n",
    "    'genre_tags', 'game_summary', 'storyline', 'platforms',\n",
    "    'game_modes', 'themes', 'keywords', 'perspectives'\n",
    "]\n",
    "df = pd.DataFrame(data=game_data, columns=df_columns).drop(columns=['game_info_url'])\n",
    "df.sample(3)"
   ]
  },
  {
   "cell_type": "markdown",
   "id": "ed601395-e781-40df-9082-c4bf9a2b89c6",
   "metadata": {},
   "source": [
    "Save dataset:"
   ]
  },
  {
   "cell_type": "code",
   "execution_count": 15,
   "id": "205129f2-2839-4200-a3e6-c97c7ba86cec",
   "metadata": {},
   "outputs": [],
   "source": [
    "df.to_csv('datasets/new/new_games_addon.csv', index=False)"
   ]
  }
 ],
 "metadata": {
  "kernelspec": {
   "display_name": "Python 3 (ipykernel)",
   "language": "python",
   "name": "python3"
  },
  "language_info": {
   "codemirror_mode": {
    "name": "ipython",
    "version": 3
   },
   "file_extension": ".py",
   "mimetype": "text/x-python",
   "name": "python",
   "nbconvert_exporter": "python",
   "pygments_lexer": "ipython3",
   "version": "3.9.5"
  }
 },
 "nbformat": 4,
 "nbformat_minor": 5
}
