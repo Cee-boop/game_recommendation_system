{
 "cells": [
  {
   "cell_type": "markdown",
   "id": "c0f3f587-915b-483c-964e-5961e693ee99",
   "metadata": {},
   "source": [
    "# Game Recommender — Text Preprocessing"
   ]
  },
  {
   "cell_type": "code",
   "execution_count": 27,
   "id": "f6bb8fb2-a94d-4065-8131-ee1bf40d84ef",
   "metadata": {},
   "outputs": [],
   "source": [
    "# General \n",
    "import re\n",
    "import numpy as np\n",
    "import pandas as pd\n",
    "from tqdm.notebook import tqdm\n",
    "\n",
    "# NLP\n",
    "import string\n",
    "import nltk\n",
    "from rake_nltk import Rake\n",
    "from nltk import pos_tag, word_tokenize\n",
    "from nltk.stem import WordNetLemmatizer\n",
    "from nltk.corpus import stopwords, wordnet\n",
    "\n",
    "# Utility\n",
    "import unidecode\n",
    "from ast import literal_eval\n",
    "from collections import Counter\n",
    "\n",
    "\n",
    "# POS TAG helper function ——\n",
    "def get_wordnet_tag(treebank_tag: str) -> str:\n",
    "    \"\"\"\n",
    "    In order for the WordNetLemmatizer to work correctly, \n",
    "    this function will convert the treebank tag to a wordnet POS tag.\n",
    "    \"\"\"\n",
    "    if treebank_tag.startswith('J'):\n",
    "        return wordnet.ADJ\n",
    "    elif treebank_tag.startswith('V'):\n",
    "        return wordnet.VERB\n",
    "    elif treebank_tag.startswith('R'):\n",
    "        return wordnet.ADV\n",
    "    else:\n",
    "        return wordnet.NOUN"
   ]
  },
  {
   "cell_type": "markdown",
   "id": "f1aa04c5-4b5e-48b6-b23d-a69093e78a08",
   "metadata": {},
   "source": [
    "Load in data:"
   ]
  },
  {
   "cell_type": "code",
   "execution_count": 28,
   "id": "f24ccd28-a2b4-40d0-9381-81d8cde99135",
   "metadata": {},
   "outputs": [
    {
     "data": {
      "text/html": [
       "<div>\n",
       "<style scoped>\n",
       "    .dataframe tbody tr th:only-of-type {\n",
       "        vertical-align: middle;\n",
       "    }\n",
       "\n",
       "    .dataframe tbody tr th {\n",
       "        vertical-align: top;\n",
       "    }\n",
       "\n",
       "    .dataframe thead th {\n",
       "        text-align: right;\n",
       "    }\n",
       "</style>\n",
       "<table border=\"1\" class=\"dataframe\">\n",
       "  <thead>\n",
       "    <tr style=\"text-align: right;\">\n",
       "      <th></th>\n",
       "      <th>game_title</th>\n",
       "      <th>dev_team</th>\n",
       "      <th>platforms</th>\n",
       "      <th>primary_tags</th>\n",
       "      <th>keywords</th>\n",
       "      <th>game_summary</th>\n",
       "    </tr>\n",
       "  </thead>\n",
       "  <tbody>\n",
       "    <tr>\n",
       "      <th>911</th>\n",
       "      <td>Yakuza</td>\n",
       "      <td>['Ryu ga Gotoku Studios', 'Sega']</td>\n",
       "      <td>['PlayStation Portable']</td>\n",
       "      <td>['Historical', 'Turn Based Strategy', 'Simulat...</td>\n",
       "      <td>['hand-to-hand combat', 'brawler', 'action-adv...</td>\n",
       "      <td>Just as Kazuma, a former rising star in the Ya...</td>\n",
       "    </tr>\n",
       "    <tr>\n",
       "      <th>692</th>\n",
       "      <td>Venba</td>\n",
       "      <td>['Visai Games']</td>\n",
       "      <td>['PC (Microsoft Windows)', 'Xbox One', 'Ninten...</td>\n",
       "      <td>['Adventure', 'Indie', 'Puzzle', 'Simulator', ...</td>\n",
       "      <td>['2d', 'crafting', 'cooking', 'cinematic', 'fe...</td>\n",
       "      <td>Venba is a narrative cooking game, where you p...</td>\n",
       "    </tr>\n",
       "    <tr>\n",
       "      <th>76</th>\n",
       "      <td>Resident Evil 7: Biohazard</td>\n",
       "      <td>['Capcom']</td>\n",
       "      <td>['PC (Microsoft Windows)', 'Mac', 'iOS', 'Play...</td>\n",
       "      <td>['Shooter', 'multiple endings', 'Puzzle', 'Spl...</td>\n",
       "      <td>['zombies', 'psychological horror', 'crafting'...</td>\n",
       "      <td>Resident Evil 7: Biohazard is the first game o...</td>\n",
       "    </tr>\n",
       "  </tbody>\n",
       "</table>\n",
       "</div>"
      ],
      "text/plain": [
       "                     game_title                           dev_team  \\\n",
       "911                      Yakuza  ['Ryu ga Gotoku Studios', 'Sega']   \n",
       "692                       Venba                    ['Visai Games']   \n",
       "76   Resident Evil 7: Biohazard                         ['Capcom']   \n",
       "\n",
       "                                             platforms  \\\n",
       "911                           ['PlayStation Portable']   \n",
       "692  ['PC (Microsoft Windows)', 'Xbox One', 'Ninten...   \n",
       "76   ['PC (Microsoft Windows)', 'Mac', 'iOS', 'Play...   \n",
       "\n",
       "                                          primary_tags  \\\n",
       "911  ['Historical', 'Turn Based Strategy', 'Simulat...   \n",
       "692  ['Adventure', 'Indie', 'Puzzle', 'Simulator', ...   \n",
       "76   ['Shooter', 'multiple endings', 'Puzzle', 'Spl...   \n",
       "\n",
       "                                              keywords  \\\n",
       "911  ['hand-to-hand combat', 'brawler', 'action-adv...   \n",
       "692  ['2d', 'crafting', 'cooking', 'cinematic', 'fe...   \n",
       "76   ['zombies', 'psychological horror', 'crafting'...   \n",
       "\n",
       "                                          game_summary  \n",
       "911  Just as Kazuma, a former rising star in the Ya...  \n",
       "692  Venba is a narrative cooking game, where you p...  \n",
       "76   Resident Evil 7: Biohazard is the first game o...  "
      ]
     },
     "execution_count": 28,
     "metadata": {},
     "output_type": "execute_result"
    }
   ],
   "source": [
    "df = pd.read_csv('datasets/cleaned/new_games_CLEANED.csv')\n",
    "df.sample(3)"
   ]
  },
  {
   "cell_type": "code",
   "execution_count": 29,
   "id": "a449d6ff-1d92-4eb9-8cc7-d1e2ca0e3eb4",
   "metadata": {},
   "outputs": [],
   "source": [
    "# Convert list-like columns to Python list\n",
    "df['dev_team'] = df['dev_team'].apply(literal_eval)\n",
    "df['platforms'] = df['platforms'].apply(literal_eval)\n",
    "df['primary_tags'] = df['primary_tags'].apply(literal_eval)\n",
    "df['keywords'] = df['keywords'].apply(literal_eval)"
   ]
  },
  {
   "cell_type": "markdown",
   "id": "ba510e30-a984-4446-88a9-7bd047c4d31f",
   "metadata": {},
   "source": [
    "Before preprocessing use Rake to indentify keywords in each `game_summary` document:"
   ]
  },
  {
   "cell_type": "code",
   "execution_count": 30,
   "id": "c5e51eeb-95e8-4a6f-bfa9-37c17313f1ba",
   "metadata": {},
   "outputs": [
    {
     "data": {
      "application/vnd.jupyter.widget-view+json": {
       "model_id": "a71445cc5d6941109d4d12843c9c7f22",
       "version_major": 2,
       "version_minor": 0
      },
      "text/plain": [
       "HBox(children=(FloatProgress(value=0.0, max=1351.0), HTML(value='')))"
      ]
     },
     "metadata": {},
     "output_type": "display_data"
    },
    {
     "name": "stdout",
     "output_type": "stream",
     "text": [
      "\n"
     ]
    }
   ],
   "source": [
    "r = Rake()\n",
    "for index, row in tqdm(df.iterrows(), total=len(df)):\n",
    "    r.extract_keywords_from_text(row['game_summary'])\n",
    "    extracted_keywords = r.get_ranked_phrases_with_scores()\n",
    "\n",
    "    rake_keywords = []\n",
    "    for score, keyword in extracted_keywords:\n",
    "        if score > 12:\n",
    "            rake_keywords += keyword.split(' ')\n",
    "\n",
    "    rake_keywords_string = \" \".join(rake_keywords)\n",
    "    \n",
    "    # Find primary keyword matches in rake summary\n",
    "    new_primary_tags = [tag for tag in row['primary_tags'] if tag.lower() in rake_keywords_string.lower()]\n",
    "    row['primary_tags'] += new_primary_tags\n",
    "\n",
    "    df.loc[index, 'rake_summary'] = rake_keywords_string"
   ]
  },
  {
   "cell_type": "code",
   "execution_count": 31,
   "id": "943594bd-e1cc-440d-87a3-91931b862f4b",
   "metadata": {},
   "outputs": [],
   "source": [
    "# Remove duplicate tags\n",
    "df['primary_tags'] = df['primary_tags'].apply(lambda x: list(set(x)))"
   ]
  },
  {
   "cell_type": "markdown",
   "id": "6c7f23a4-e511-4cb1-8b35-044dbebe6b40",
   "metadata": {},
   "source": [
    "`game_summary` text preprocessing:"
   ]
  },
  {
   "cell_type": "code",
   "execution_count": 32,
   "id": "35e6f59f-4336-4087-8675-7e1df9125fb0",
   "metadata": {},
   "outputs": [],
   "source": [
    "def decontract(doc: str) -> str:\n",
    "    \"\"\"\n",
    "    Decontract phrases in doc.\n",
    "    \"\"\"\n",
    "    # Specific\n",
    "    doc = re.sub(r\"won\\'t\", \"will not\", doc)\n",
    "    doc = re.sub(r\"can\\'t\", \"can not\", doc)\n",
    "    # General\n",
    "    doc = re.sub(r\"n\\'t\", \" not\", doc)\n",
    "    doc = re.sub(r\"\\'re\", \" are\", doc)\n",
    "    doc = re.sub(r\"\\'s\", \" is\", doc)\n",
    "    doc = re.sub(r\"\\'d\", \" would\", doc)\n",
    "    doc = re.sub(r\"\\'ll\", \" will\", doc)\n",
    "    doc = re.sub(r\"\\'t\", \" not\", doc)\n",
    "    doc = re.sub(r\"\\'ve\", \" have\", doc)\n",
    "    doc = re.sub(r\"\\'m\", \" am\", doc)\n",
    "    return doc\n",
    "\n",
    "\n",
    "def lemmatize(doc: str) -> str:\n",
    "    \"\"\"\n",
    "    Lemmatize document.\n",
    "    \"\"\"\n",
    "    wnl = WordNetLemmatizer()\n",
    "    tokens = word_tokenize(doc)\n",
    "    words_and_tags = pos_tag(tokens)\n",
    "    return \" \".join(wnl.lemmatize(word, pos=get_wordnet_tag(tag)) for word, tag in words_and_tags)\n",
    "\n",
    "\n",
    "def remove_stopwords(doc: str) -> str:\n",
    "    \"\"\"\n",
    "    Remove stopwords from document.\n",
    "    \"\"\"\n",
    "    with open('updated_stopwords.txt') as file:\n",
    "        words_to_remove = set(stopwords.words('english') + file.read().split('\\n')) \n",
    "    tokens = word_tokenize(doc)\n",
    "    return \" \".join([word for word in tokens if word not in words_to_remove and len(word) > 1])\n",
    "\n",
    "\n",
    "def remove_punctuation(doc: str) -> str:\n",
    "    \"\"\"\n",
    "    Remove punctuation and numbers from document.\n",
    "    \"\"\"\n",
    "    doc = doc.lower()\n",
    "    doc = re.sub('[0-9]', '', doc)\n",
    "    doc = decontract(doc)\n",
    "    for symbol in string.punctuation + '’...':\n",
    "        doc = doc.replace(symbol, '')\n",
    "    doc = re.sub('\\s+', ' ', doc)\n",
    "    doc = lemmatize(doc)\n",
    "    doc = remove_stopwords(doc)\n",
    "    doc = unidecode.unidecode(doc)\n",
    "    return doc"
   ]
  },
  {
   "cell_type": "code",
   "execution_count": 33,
   "id": "692d99f6-1976-4b95-bcbb-a637295e3957",
   "metadata": {},
   "outputs": [
    {
     "data": {
      "application/vnd.jupyter.widget-view+json": {
       "model_id": "dff03059b7a0468483bb8888feca53db",
       "version_major": 2,
       "version_minor": 0
      },
      "text/plain": [
       "HBox(children=(FloatProgress(value=0.0, max=1351.0), HTML(value='')))"
      ]
     },
     "metadata": {},
     "output_type": "display_data"
    },
    {
     "name": "stdout",
     "output_type": "stream",
     "text": [
      "\n"
     ]
    },
    {
     "data": {
      "text/plain": [
       "'challenge gameplay mechanic familiar demigod child fight elden'"
      ]
     },
     "execution_count": 33,
     "metadata": {},
     "output_type": "execute_result"
    }
   ],
   "source": [
    "for index, row in tqdm(df.iterrows(), total=len(df)):\n",
    "    df.loc[index, 'lemma_summary'] = remove_punctuation(row['game_summary'])\n",
    "    df.loc[index, 'rake_summary'] = remove_punctuation(row['rake_summary'])\n",
    "\n",
    "df['rake_summary'].iloc[0]"
   ]
  },
  {
   "cell_type": "markdown",
   "id": "96cbb481-f29c-409a-8db8-893353c39b9f",
   "metadata": {},
   "source": [
    "Identify keywords from lemmatized summaries:"
   ]
  },
  {
   "cell_type": "code",
   "execution_count": 34,
   "id": "aa01fae4-0c80-4c88-b9f0-5315acc76083",
   "metadata": {},
   "outputs": [
    {
     "name": "stdout",
     "output_type": "stream",
     "text": [
      "[('game', 1703), ('player', 869), ('character', 483), ('story', 455), ('time', 442), ('series', 391), ('battle', 383), ('set', 379), ('power', 359), ('feature', 358), ('adventure', 332), ('fight', 322), ('play', 308), ('city', 300), ('enemy', 277), ('experience', 264), ('dark', 261), ('war', 261), ('gameplay', 250), ('weapon', 250), ('pokemon', 250), ('force', 248), ('friend', 245), ('mario', 242), ('explore', 240), ('action', 238), ('land', 219), ('discover', 218), ('control', 217), ('life', 216), ('event', 211), ('return', 211), ('ability', 208), ('follow', 205), ('hero', 202), ('save', 201), ('include', 199), ('original', 197), ('attack', 196), ('create', 192), ('mode', 192), ('journey', 187), ('combat', 182), ('level', 182), ('release', 178), ('island', 176), ('team', 172), ('defeat', 171), ('kill', 171), ('evil', 167)]\n"
     ]
    }
   ],
   "source": [
    "# Most common words in lemmatized corpus\n",
    "lemma_corpus = \" \".join(df['lemma_summary'].tolist()).strip()\n",
    "lemma_tokens = word_tokenize(lemma_corpus)\n",
    "token_counts = Counter(lemma_tokens)\n",
    "print(token_counts.most_common(50))"
   ]
  },
  {
   "cell_type": "code",
   "execution_count": 35,
   "id": "3b8923d4-5210-4e45-82ac-bc7ba59972c7",
   "metadata": {},
   "outputs": [
    {
     "data": {
      "application/vnd.jupyter.widget-view+json": {
       "model_id": "76c233a968ec4c08937c30a247f667df",
       "version_major": 2,
       "version_minor": 0
      },
      "text/plain": [
       "HBox(children=(FloatProgress(value=0.0, max=1351.0), HTML(value='')))"
      ]
     },
     "metadata": {},
     "output_type": "display_data"
    },
    {
     "name": "stdout",
     "output_type": "stream",
     "text": [
      "\n"
     ]
    }
   ],
   "source": [
    "# Add the 200 most common words to primary tags\n",
    "lemma_keywords = [word for word, count in token_counts.most_common(200) if word.isalpha()]\n",
    "\n",
    "for index, row in tqdm(df.iterrows(), total=len(df)):\n",
    "    lemma_word_list = set(row['lemma_summary'].split(' '))\n",
    "    # Keyword matches in lemma summary\n",
    "    for word in lemma_keywords:\n",
    "        if word in lemma_word_list and word not in row['primary_tags']:\n",
    "            row['primary_tags'].append(word)"
   ]
  },
  {
   "cell_type": "code",
   "execution_count": 36,
   "id": "c5919c34-9509-4c57-b77e-22cc9fe76011",
   "metadata": {},
   "outputs": [
    {
     "name": "stdout",
     "output_type": "stream",
     "text": [
      "['Single player', 'Multiplayer', 'sword & sorcery', 'Adventure', 'RPG', 'Open world', 'Co-operative', 'Action', 'difficult', 'exploration', 'Fantasy', 'game', 'player', 'character', 'series', 'battle', 'power', 'feature', 'fight', 'enemy', 'dark', 'gameplay', 'force', 'explore', 'action', 'land', 'event', 'release', 'secret', 'develop', 'powerful', 'build', 'rpg', 'role', 'introduce', 'offer', 'deep', 'seek', 'mechanic']\n"
     ]
    }
   ],
   "source": [
    "print(df['primary_tags'].iloc[0])"
   ]
  },
  {
   "cell_type": "markdown",
   "id": "45cc266f-b0d5-43eb-b639-e47264e88fd2",
   "metadata": {},
   "source": [
    "Format `keyword_tags`:"
   ]
  },
  {
   "cell_type": "code",
   "execution_count": 37,
   "id": "9f378c8b-f0ec-4db7-8d41-2de5c8451599",
   "metadata": {},
   "outputs": [
    {
     "data": {
      "text/html": [
       "<div>\n",
       "<style scoped>\n",
       "    .dataframe tbody tr th:only-of-type {\n",
       "        vertical-align: middle;\n",
       "    }\n",
       "\n",
       "    .dataframe tbody tr th {\n",
       "        vertical-align: top;\n",
       "    }\n",
       "\n",
       "    .dataframe thead th {\n",
       "        text-align: right;\n",
       "    }\n",
       "</style>\n",
       "<table border=\"1\" class=\"dataframe\">\n",
       "  <thead>\n",
       "    <tr style=\"text-align: right;\">\n",
       "      <th></th>\n",
       "      <th>game_title</th>\n",
       "      <th>dev_team</th>\n",
       "      <th>platforms</th>\n",
       "      <th>primary_tags</th>\n",
       "      <th>keywords</th>\n",
       "      <th>game_summary</th>\n",
       "      <th>rake_summary</th>\n",
       "      <th>lemma_summary</th>\n",
       "    </tr>\n",
       "  </thead>\n",
       "  <tbody>\n",
       "    <tr>\n",
       "      <th>1342</th>\n",
       "      <td>Kirby Air Ride</td>\n",
       "      <td>[nintendo, hallaboratory]</td>\n",
       "      <td>[nintendogamecube]</td>\n",
       "      <td>[arcade, singleplayer, splitscreen, racing, fa...</td>\n",
       "      <td>[minigames, protagonist's name in the title, m...</td>\n",
       "      <td>Kirby Air Ride is a 2003 racing game video gam...</td>\n",
       "      <td>support lan play broadband adapter race game v...</td>\n",
       "      <td>kirby air ride racing game video game develop ...</td>\n",
       "    </tr>\n",
       "    <tr>\n",
       "      <th>1014</th>\n",
       "      <td>Dante's Inferno</td>\n",
       "      <td>[electronicarts, visceralgames]</td>\n",
       "      <td>[commodorec64/128/max]</td>\n",
       "      <td>[singleplayer, medieval, adventure, action, br...</td>\n",
       "      <td>[magic, based on - book, bangsian fantasy]</td>\n",
       "      <td>Dante's Inferno is an epic single player, thir...</td>\n",
       "      <td>person action adventure game inspire feature n...</td>\n",
       "      <td>dante inferno epic single player thirdperson a...</td>\n",
       "    </tr>\n",
       "  </tbody>\n",
       "</table>\n",
       "</div>"
      ],
      "text/plain": [
       "           game_title                         dev_team  \\\n",
       "1342   Kirby Air Ride        [nintendo, hallaboratory]   \n",
       "1014  Dante's Inferno  [electronicarts, visceralgames]   \n",
       "\n",
       "                   platforms  \\\n",
       "1342      [nintendogamecube]   \n",
       "1014  [commodorec64/128/max]   \n",
       "\n",
       "                                           primary_tags  \\\n",
       "1342  [arcade, singleplayer, splitscreen, racing, fa...   \n",
       "1014  [singleplayer, medieval, adventure, action, br...   \n",
       "\n",
       "                                               keywords  \\\n",
       "1342  [minigames, protagonist's name in the title, m...   \n",
       "1014         [magic, based on - book, bangsian fantasy]   \n",
       "\n",
       "                                           game_summary  \\\n",
       "1342  Kirby Air Ride is a 2003 racing game video gam...   \n",
       "1014  Dante's Inferno is an epic single player, thir...   \n",
       "\n",
       "                                           rake_summary  \\\n",
       "1342  support lan play broadband adapter race game v...   \n",
       "1014  person action adventure game inspire feature n...   \n",
       "\n",
       "                                          lemma_summary  \n",
       "1342  kirby air ride racing game video game develop ...  \n",
       "1014  dante inferno epic single player thirdperson a...  "
      ]
     },
     "execution_count": 37,
     "metadata": {},
     "output_type": "execute_result"
    }
   ],
   "source": [
    "def format_tag(tags: list) -> list:\n",
    "    \"\"\"\n",
    "    Validate formatting of each tag.\n",
    "    \"\"\"\n",
    "    tags = tags.copy()\n",
    "    for index, tag in enumerate(tags):\n",
    "        tag = tag.lower()\n",
    "        if '(' in tag:\n",
    "            tag = tag.split(' (')[0]\n",
    "\n",
    "        tag = re.sub('[-\\.\\!\\?\\&]', '', tag)\n",
    "        tag = tag.replace(' ', '')\n",
    "        tags[index] = tag\n",
    "\n",
    "    return tags\n",
    "\n",
    "df['dev_team'] = df['dev_team'].apply(format_tag)\n",
    "df['platforms'] = df['platforms'].apply(format_tag)\n",
    "df['primary_tags'] = df['primary_tags'].apply(format_tag)\n",
    "df.sample(2)"
   ]
  },
  {
   "cell_type": "markdown",
   "id": "ca603701-6dd4-44aa-9581-e27ee5d77642",
   "metadata": {},
   "source": [
    "Save dataset:"
   ]
  },
  {
   "cell_type": "code",
   "execution_count": 38,
   "id": "714a23bf-5dd6-437c-9107-1f013f3915fc",
   "metadata": {},
   "outputs": [],
   "source": [
    "df.to_csv('datasets/processed/games_PROCESSED.csv', index=False)"
   ]
  }
 ],
 "metadata": {
  "kernelspec": {
   "display_name": "Python 3 (ipykernel)",
   "language": "python",
   "name": "python3"
  },
  "language_info": {
   "codemirror_mode": {
    "name": "ipython",
    "version": 3
   },
   "file_extension": ".py",
   "mimetype": "text/x-python",
   "name": "python",
   "nbconvert_exporter": "python",
   "pygments_lexer": "ipython3",
   "version": "3.9.5"
  }
 },
 "nbformat": 4,
 "nbformat_minor": 5
}
