{
 "cells": [
  {
   "cell_type": "markdown",
   "id": "3c8cbf9a-6d57-4aa1-98ab-ec94a7c1a671",
   "metadata": {},
   "source": [
    "# Game Recommender — Data Preprocessing"
   ]
  },
  {
   "cell_type": "markdown",
   "id": "b3dafeab-0e64-4a69-9660-f401d5b48a39",
   "metadata": {},
   "source": [
    "Notebook is designed to be executed once."
   ]
  },
  {
   "cell_type": "code",
   "execution_count": 46,
   "id": "8eee7f27-f7e7-4965-aaf5-9d97608b4291",
   "metadata": {},
   "outputs": [],
   "source": [
    "# General \n",
    "import re\n",
    "import numpy as np\n",
    "import pandas as pd\n",
    "from tqdm.notebook import tqdm\n",
    "\n",
    "# Utility\n",
    "from collections import Counter\n",
    "from ast import literal_eval\n",
    "\n",
    "import warnings\n",
    "warnings.simplefilter('ignore')"
   ]
  },
  {
   "cell_type": "markdown",
   "id": "bab3cfec-c59b-4452-b947-6caeedebed9f",
   "metadata": {},
   "source": [
    "Load in data:"
   ]
  },
  {
   "cell_type": "code",
   "execution_count": 47,
   "id": "5c42824f-fccd-48e4-9ae4-77d8e9d60fdd",
   "metadata": {},
   "outputs": [
    {
     "name": "stdout",
     "output_type": "stream",
     "text": [
      "(1440, 10) \n",
      "\n"
     ]
    },
    {
     "data": {
      "text/html": [
       "<div>\n",
       "<style scoped>\n",
       "    .dataframe tbody tr th:only-of-type {\n",
       "        vertical-align: middle;\n",
       "    }\n",
       "\n",
       "    .dataframe tbody tr th {\n",
       "        vertical-align: top;\n",
       "    }\n",
       "\n",
       "    .dataframe thead th {\n",
       "        text-align: right;\n",
       "    }\n",
       "</style>\n",
       "<table border=\"1\" class=\"dataframe\">\n",
       "  <thead>\n",
       "    <tr style=\"text-align: right;\">\n",
       "      <th></th>\n",
       "      <th>game_title</th>\n",
       "      <th>dev_team</th>\n",
       "      <th>genre_tags</th>\n",
       "      <th>game_summary</th>\n",
       "      <th>storyline</th>\n",
       "      <th>platforms</th>\n",
       "      <th>game_modes</th>\n",
       "      <th>themes</th>\n",
       "      <th>keywords</th>\n",
       "      <th>perspectives</th>\n",
       "    </tr>\n",
       "  </thead>\n",
       "  <tbody>\n",
       "    <tr>\n",
       "      <th>265</th>\n",
       "      <td>VA-11 Hall-A: Cyberpunk Bartender Action</td>\n",
       "      <td>['SUKEBAN', 'Ysbryd Games']</td>\n",
       "      <td>['Adventure', 'Indie', 'Simulator', 'Visual No...</td>\n",
       "      <td>Learn about daily life in a cyberpunk dystopia...</td>\n",
       "      <td>VA-11 HALL-A: Cyberpunk Bartender Action is a ...</td>\n",
       "      <td>['Linux', 'PC (Microsoft Windows)', 'Mac', 'iO...</td>\n",
       "      <td>['Single player']</td>\n",
       "      <td>['Science fiction']</td>\n",
       "      <td>['anime', 'cyberpunk', 'female protagonist', '...</td>\n",
       "      <td>['Text']</td>\n",
       "    </tr>\n",
       "    <tr>\n",
       "      <th>508</th>\n",
       "      <td>Cuphead: The Delicious Last Course</td>\n",
       "      <td>['Studio MDHR']</td>\n",
       "      <td>['Adventure', 'Indie', 'Platform']</td>\n",
       "      <td>In Cuphead: The Delicious Last Course, Cuphead...</td>\n",
       "      <td>[]</td>\n",
       "      <td>['PC (Microsoft Windows)', 'Xbox One', 'Ninten...</td>\n",
       "      <td>[]</td>\n",
       "      <td>[]</td>\n",
       "      <td>[]</td>\n",
       "      <td>[]</td>\n",
       "    </tr>\n",
       "  </tbody>\n",
       "</table>\n",
       "</div>"
      ],
      "text/plain": [
       "                                   game_title                     dev_team  \\\n",
       "265  VA-11 Hall-A: Cyberpunk Bartender Action  ['SUKEBAN', 'Ysbryd Games']   \n",
       "508        Cuphead: The Delicious Last Course              ['Studio MDHR']   \n",
       "\n",
       "                                            genre_tags  \\\n",
       "265  ['Adventure', 'Indie', 'Simulator', 'Visual No...   \n",
       "508                 ['Adventure', 'Indie', 'Platform']   \n",
       "\n",
       "                                          game_summary  \\\n",
       "265  Learn about daily life in a cyberpunk dystopia...   \n",
       "508  In Cuphead: The Delicious Last Course, Cuphead...   \n",
       "\n",
       "                                             storyline  \\\n",
       "265  VA-11 HALL-A: Cyberpunk Bartender Action is a ...   \n",
       "508                                                 []   \n",
       "\n",
       "                                             platforms         game_modes  \\\n",
       "265  ['Linux', 'PC (Microsoft Windows)', 'Mac', 'iO...  ['Single player']   \n",
       "508  ['PC (Microsoft Windows)', 'Xbox One', 'Ninten...                 []   \n",
       "\n",
       "                  themes                                           keywords  \\\n",
       "265  ['Science fiction']  ['anime', 'cyberpunk', 'female protagonist', '...   \n",
       "508                   []                                                 []   \n",
       "\n",
       "    perspectives  \n",
       "265     ['Text']  \n",
       "508           []  "
      ]
     },
     "execution_count": 47,
     "metadata": {},
     "output_type": "execute_result"
    }
   ],
   "source": [
    "df = pd.read_csv('datasets/new/new_games_addon.csv')\n",
    "print(df.shape, '\\n')\n",
    "df.sample(2)"
   ]
  },
  {
   "cell_type": "markdown",
   "id": "de14a482-e9a0-4d3f-b00a-c4dec3800a22",
   "metadata": {},
   "source": [
    "Clean data:"
   ]
  },
  {
   "cell_type": "code",
   "execution_count": 48,
   "id": "ed803394-ac41-4963-afce-2dc9f16754f3",
   "metadata": {},
   "outputs": [
    {
     "name": "stdout",
     "output_type": "stream",
     "text": [
      "<class 'pandas.core.frame.DataFrame'>\n",
      "RangeIndex: 1440 entries, 0 to 1439\n",
      "Data columns (total 10 columns):\n",
      " #   Column        Non-Null Count  Dtype \n",
      "---  ------        --------------  ----- \n",
      " 0   game_title    1440 non-null   object\n",
      " 1   dev_team      1440 non-null   object\n",
      " 2   genre_tags    1440 non-null   object\n",
      " 3   game_summary  1440 non-null   object\n",
      " 4   storyline     1440 non-null   object\n",
      " 5   platforms     1440 non-null   object\n",
      " 6   game_modes    1440 non-null   object\n",
      " 7   themes        1439 non-null   object\n",
      " 8   keywords      1439 non-null   object\n",
      " 9   perspectives  1439 non-null   object\n",
      "dtypes: object(10)\n",
      "memory usage: 112.6+ KB\n"
     ]
    }
   ],
   "source": [
    "df.info()"
   ]
  },
  {
   "cell_type": "code",
   "execution_count": 49,
   "id": "640c7f33-fb63-4190-b9c7-2abd84991574",
   "metadata": {},
   "outputs": [
    {
     "data": {
      "text/html": [
       "<div>\n",
       "<style scoped>\n",
       "    .dataframe tbody tr th:only-of-type {\n",
       "        vertical-align: middle;\n",
       "    }\n",
       "\n",
       "    .dataframe tbody tr th {\n",
       "        vertical-align: top;\n",
       "    }\n",
       "\n",
       "    .dataframe thead th {\n",
       "        text-align: right;\n",
       "    }\n",
       "</style>\n",
       "<table border=\"1\" class=\"dataframe\">\n",
       "  <thead>\n",
       "    <tr style=\"text-align: right;\">\n",
       "      <th></th>\n",
       "      <th>game_title</th>\n",
       "      <th>dev_team</th>\n",
       "      <th>genre_tags</th>\n",
       "      <th>game_summary</th>\n",
       "      <th>storyline</th>\n",
       "      <th>platforms</th>\n",
       "      <th>game_modes</th>\n",
       "      <th>themes</th>\n",
       "      <th>keywords</th>\n",
       "      <th>perspectives</th>\n",
       "    </tr>\n",
       "  </thead>\n",
       "  <tbody>\n",
       "    <tr>\n",
       "      <th>1017</th>\n",
       "      <td>Silent Hill 2: Enhanced Edition</td>\n",
       "      <td>The second installment in the Silent Hill seri...</td>\n",
       "      <td>['PC (Microsoft Windows)']</td>\n",
       "      <td>['Single player']</td>\n",
       "      <td>['Horror']</td>\n",
       "      <td>['survival horror', 'fan translation - portugu...</td>\n",
       "      <td>['Third person']</td>\n",
       "      <td>NaN</td>\n",
       "      <td>NaN</td>\n",
       "      <td>NaN</td>\n",
       "    </tr>\n",
       "  </tbody>\n",
       "</table>\n",
       "</div>"
      ],
      "text/plain": [
       "                           game_title  \\\n",
       "1017  Silent Hill 2: Enhanced Edition   \n",
       "\n",
       "                                               dev_team  \\\n",
       "1017  The second installment in the Silent Hill seri...   \n",
       "\n",
       "                      genre_tags       game_summary   storyline  \\\n",
       "1017  ['PC (Microsoft Windows)']  ['Single player']  ['Horror']   \n",
       "\n",
       "                                              platforms        game_modes  \\\n",
       "1017  ['survival horror', 'fan translation - portugu...  ['Third person']   \n",
       "\n",
       "     themes keywords perspectives  \n",
       "1017    NaN      NaN          NaN  "
      ]
     },
     "execution_count": 49,
     "metadata": {},
     "output_type": "execute_result"
    }
   ],
   "source": [
    "# Handle missing data\n",
    "df[df.isna().any(axis=1)]"
   ]
  },
  {
   "cell_type": "code",
   "execution_count": 50,
   "id": "2200ff97-808a-42b1-9a2c-a53859b79352",
   "metadata": {},
   "outputs": [],
   "source": [
    "# Filter out rows with NaN values\n",
    "df = df[~df.isna().any(axis=1)]"
   ]
  },
  {
   "cell_type": "code",
   "execution_count": 51,
   "id": "1eb14e51-be62-4552-ad46-039c949b1993",
   "metadata": {},
   "outputs": [
    {
     "data": {
      "text/html": [
       "<div>\n",
       "<style scoped>\n",
       "    .dataframe tbody tr th:only-of-type {\n",
       "        vertical-align: middle;\n",
       "    }\n",
       "\n",
       "    .dataframe tbody tr th {\n",
       "        vertical-align: top;\n",
       "    }\n",
       "\n",
       "    .dataframe thead th {\n",
       "        text-align: right;\n",
       "    }\n",
       "</style>\n",
       "<table border=\"1\" class=\"dataframe\">\n",
       "  <thead>\n",
       "    <tr style=\"text-align: right;\">\n",
       "      <th></th>\n",
       "      <th>game_title</th>\n",
       "      <th>dev_team</th>\n",
       "      <th>genre_tags</th>\n",
       "      <th>game_summary</th>\n",
       "      <th>storyline</th>\n",
       "      <th>platforms</th>\n",
       "      <th>game_modes</th>\n",
       "      <th>themes</th>\n",
       "      <th>keywords</th>\n",
       "      <th>perspectives</th>\n",
       "    </tr>\n",
       "  </thead>\n",
       "  <tbody>\n",
       "    <tr>\n",
       "      <th>17</th>\n",
       "      <td>Grand Theft Auto V</td>\n",
       "      <td>[Rockstar North, Rockstar Games]</td>\n",
       "      <td>[Adventure, Racing, Shooter]</td>\n",
       "      <td>Grand Theft Auto V is a vast open world game s...</td>\n",
       "      <td>[]</td>\n",
       "      <td>[PlayStation 4, Xbox One, PlayStation 5, Xbox ...</td>\n",
       "      <td>[Single player, Multiplayer, Co-operative]</td>\n",
       "      <td>[]</td>\n",
       "      <td>[]</td>\n",
       "      <td>[]</td>\n",
       "    </tr>\n",
       "    <tr>\n",
       "      <th>503</th>\n",
       "      <td>Bastion</td>\n",
       "      <td>[Supergiant Games, WB Games]</td>\n",
       "      <td>[Adventure, Indie, RPG]</td>\n",
       "      <td>A hack-and-slash RPG featuring a reactive narr...</td>\n",
       "      <td>The game takes place in the aftermath of the C...</td>\n",
       "      <td>[Linux, PC (Microsoft Windows), Xbox 360, Mac,...</td>\n",
       "      <td>[Single player]</td>\n",
       "      <td>[Action, Fantasy]</td>\n",
       "      <td>[post-apocalyptic, crafting, skydiving, time m...</td>\n",
       "      <td>[Bird view / Isometric]</td>\n",
       "    </tr>\n",
       "  </tbody>\n",
       "</table>\n",
       "</div>"
      ],
      "text/plain": [
       "             game_title                          dev_team  \\\n",
       "17   Grand Theft Auto V  [Rockstar North, Rockstar Games]   \n",
       "503             Bastion      [Supergiant Games, WB Games]   \n",
       "\n",
       "                       genre_tags  \\\n",
       "17   [Adventure, Racing, Shooter]   \n",
       "503       [Adventure, Indie, RPG]   \n",
       "\n",
       "                                          game_summary  \\\n",
       "17   Grand Theft Auto V is a vast open world game s...   \n",
       "503  A hack-and-slash RPG featuring a reactive narr...   \n",
       "\n",
       "                                             storyline  \\\n",
       "17                                                  []   \n",
       "503  The game takes place in the aftermath of the C...   \n",
       "\n",
       "                                             platforms  \\\n",
       "17   [PlayStation 4, Xbox One, PlayStation 5, Xbox ...   \n",
       "503  [Linux, PC (Microsoft Windows), Xbox 360, Mac,...   \n",
       "\n",
       "                                     game_modes             themes  \\\n",
       "17   [Single player, Multiplayer, Co-operative]                 []   \n",
       "503                             [Single player]  [Action, Fantasy]   \n",
       "\n",
       "                                              keywords  \\\n",
       "17                                                  []   \n",
       "503  [post-apocalyptic, crafting, skydiving, time m...   \n",
       "\n",
       "                perspectives  \n",
       "17                        []  \n",
       "503  [Bird view / Isometric]  "
      ]
     },
     "execution_count": 51,
     "metadata": {},
     "output_type": "execute_result"
    }
   ],
   "source": [
    "# Convert list like columns to Python lists\n",
    "list_like_cols = ['dev_team', 'genre_tags', 'platforms', 'game_modes', 'themes', 'keywords', 'perspectives']\n",
    "for col in list_like_cols:\n",
    "    df[col] = df[col].apply(literal_eval)\n",
    "\n",
    "df.sample(2)"
   ]
  },
  {
   "cell_type": "code",
   "execution_count": 52,
   "id": "8d0cb33b-c7ce-4b3c-96bd-190e32b7c592",
   "metadata": {},
   "outputs": [
    {
     "data": {
      "text/plain": [
       "(1351, 10)"
      ]
     },
     "execution_count": 52,
     "metadata": {},
     "output_type": "execute_result"
    }
   ],
   "source": [
    "# Handle duplicate titles / different editions of the same game\n",
    "\n",
    "def remove_editions(game_title: str, dilimeter: str) -> bool:\n",
    "    \"\"\"\n",
    "    Removes addtional editions of games already present in dataset.\n",
    "    \"\"\"\n",
    "    if dilimeter in game_title and 'Edition' in game_title\\\n",
    "    or dilimeter in game_title and \"Director's Cut\" in game_title\\\n",
    "    or dilimeter in game_title and 'Deluxe' in game_title\\\n",
    "    or dilimeter in game_title and \"Remastered\" in game_title:\n",
    "        title_prefix = game_title.split(dilimeter)[0]\n",
    "        return title_prefix in set(df['game_title'])\n",
    "    \n",
    "    return False\n",
    "\n",
    "df = df[~df['game_title'].apply(lambda x: remove_editions(x, ' - '))]\n",
    "df = df[~df['game_title'].apply(lambda x: remove_editions(x, ':'))]\n",
    "df = df[~df.duplicated(subset='game_summary')]  # Remove duplicate summaries\n",
    "df = df[~df.duplicated(subset='game_title')]  # remove duplicate titles\n",
    "df.shape"
   ]
  },
  {
   "cell_type": "code",
   "execution_count": 53,
   "id": "0fb3c4d5-803a-43c2-9fa2-96f1f6c03485",
   "metadata": {},
   "outputs": [
    {
     "name": "stdout",
     "output_type": "stream",
     "text": [
      "<class 'pandas.core.frame.DataFrame'>\n",
      "RangeIndex: 1351 entries, 0 to 1350\n",
      "Data columns (total 10 columns):\n",
      " #   Column        Non-Null Count  Dtype \n",
      "---  ------        --------------  ----- \n",
      " 0   game_title    1351 non-null   object\n",
      " 1   dev_team      1351 non-null   object\n",
      " 2   genre_tags    1351 non-null   object\n",
      " 3   game_summary  1351 non-null   object\n",
      " 4   storyline     1351 non-null   object\n",
      " 5   platforms     1351 non-null   object\n",
      " 6   game_modes    1351 non-null   object\n",
      " 7   themes        1351 non-null   object\n",
      " 8   keywords      1351 non-null   object\n",
      " 9   perspectives  1351 non-null   object\n",
      "dtypes: object(10)\n",
      "memory usage: 105.7+ KB\n"
     ]
    }
   ],
   "source": [
    "df = df.reset_index().drop(columns='index')\n",
    "df.info()"
   ]
  },
  {
   "cell_type": "markdown",
   "id": "a591c1a1-c05f-4413-8226-fb82617bb73a",
   "metadata": {},
   "source": [
    "Merge `genre_tags`, `themes`, `game_modes` and `keywords` into a single column:"
   ]
  },
  {
   "cell_type": "code",
   "execution_count": 54,
   "id": "1bc6dcc0-f914-4fc0-b52e-3373ddfd4339",
   "metadata": {},
   "outputs": [
    {
     "name": "stdout",
     "output_type": "stream",
     "text": [
      "Top 20 keywords: [('digital distribution', 240), ('polygonal 3d', 192), ('boss fight', 184), ('voice acting', 175), ('male protagonist', 170), ('action-adventure', 168), ('steam', 168), ('death', 157), ('sequel', 150), ('achievements', 149), ('real-time combat', 142), ('explosion', 141), ('original soundtrack release', 140), ('melee', 139), ('bloody', 139), ('human', 122), ('female protagonist', 121), ('playstation trophies', 121), ('multiple endings', 118), ('mercenary', 112)]\n"
     ]
    }
   ],
   "source": [
    "# Since keywords contains the most tags, I'll be selecting the most common / what I think could be useful\n",
    "tag_counts = Counter()\n",
    "for index, row in df.iterrows():\n",
    "    tag_counts.update(row['keywords'])\n",
    "\n",
    "print('Top 20 keywords:', tag_counts.most_common(20))"
   ]
  },
  {
   "cell_type": "code",
   "execution_count": 55,
   "id": "6999a946-426d-415c-87ed-7e29d0b5f2d3",
   "metadata": {},
   "outputs": [
    {
     "data": {
      "application/vnd.jupyter.widget-view+json": {
       "model_id": "f567d0d1d44f4b89816697bf998bb7e1",
       "version_major": 2,
       "version_minor": 0
      },
      "text/plain": [
       "HBox(children=(FloatProgress(value=0.0, max=1351.0), HTML(value='')))"
      ]
     },
     "metadata": {},
     "output_type": "display_data"
    },
    {
     "name": "stdout",
     "output_type": "stream",
     "text": [
      "\n"
     ]
    }
   ],
   "source": [
    "# Identify more descriptive keywords for each game\n",
    "key_tags = [\n",
    "    '2d', 'metroidvania', 'anime', 'jrpg', 'post-apocalyptic', 'elves',\n",
    "    'character customization', 'pvp', 'multiple endings', 'gothic', 'side-scrolling',\n",
    "    'difficult', 'exploration', 'turn-based', 'assassin', 'immersive', 'medieval',\n",
    "    'sexual content', 'sword & sorcery', 'female protagonist', 'wizards', 'aliens'\n",
    "]\n",
    "\n",
    "for index, row in tqdm(df.iterrows(), total=len(df)):\n",
    "    # Append theme / game mode tags to genre tags\n",
    "    row['genre_tags'] += row['themes']\n",
    "    row['genre_tags'] += row['game_modes']\n",
    "\n",
    "    # Concat game summary and storyline\n",
    "    if row['storyline'][0] != '[':  # Cell not empty\n",
    "        row['game_summary'] += ' ' + row['storyline']\n",
    "    \n",
    "    # Filter keyword tags and append to genre tags\n",
    "    for tag in key_tags:\n",
    "        if tag in set(row['keywords']) or tag in row['game_summary'].lower():  # <- Check if keyword tags appear in game summary\n",
    "            if tag == 'jrpg' and 'RPG' in row['genre_tags']:  # JRPG and RPG are two different genres, with different gameplay mechanics\n",
    "                row['genre_tags'].remove('RPG')\n",
    "            \n",
    "            row['genre_tags'].append(tag)"
   ]
  },
  {
   "cell_type": "code",
   "execution_count": 56,
   "id": "71fb3ac4-2b30-4a24-ae74-fed442f5a876",
   "metadata": {},
   "outputs": [
    {
     "name": "stdout",
     "output_type": "stream",
     "text": [
      "{'Shooter', 'multiple endings', 'aliens', 'Single player', 'post-apocalyptic', 'Arcade', 'assassin', 'Science fiction', 'Strategy', 'RPG', 'female protagonist', 'anime', 'Tactical', 'Warfare', 'exploration', 'Racing', 'Fighting', 'Thriller', 'Drama', 'Adventure', 'Mystery', 'Historical', 'side-scrolling', 'Fantasy', 'Turn Based Strategy', 'elves', 'Split screen', 'Survival', 'Kids', 'Platform', 'Horror', 'Brawler', 'Sandbox', 'Co-operative', 'Open world', 'Stealth', 'sword & sorcery', 'immersive', 'Indie', '2d', 'Simulator', 'Point-and-Click', 'Puzzle', 'jrpg', 'difficult', 'Multiplayer', 'Action', 'turn-based', 'Visual Novel', 'Comedy'}\n"
     ]
    }
   ],
   "source": [
    "# Most common genre tags\n",
    "def counts(tags: list):\n",
    "    genre_counts.update(tags)\n",
    "\n",
    "genre_counts = Counter()\n",
    "df['genre_tags'].apply(counts)\n",
    "most_common_genres = set([tag for tag, count in genre_counts.most_common(50)])\n",
    "print(most_common_genres)"
   ]
  },
  {
   "cell_type": "markdown",
   "id": "79be5852-a471-4b8d-98f5-2ba60c6274c8",
   "metadata": {},
   "source": [
    "Since keyword tags can be incorrect I'll group games that come from a series with the same tags."
   ]
  },
  {
   "cell_type": "code",
   "execution_count": 57,
   "id": "2fc431a6-c69a-4279-a88a-55bd8ed948a0",
   "metadata": {},
   "outputs": [
    {
     "data": {
      "application/vnd.jupyter.widget-view+json": {
       "model_id": "ce530b204b0c499aa545a0c3cd7dfba9",
       "version_major": 2,
       "version_minor": 0
      },
      "text/plain": [
       "HBox(children=(FloatProgress(value=0.0, max=1351.0), HTML(value='')))"
      ]
     },
     "metadata": {},
     "output_type": "display_data"
    },
    {
     "name": "stdout",
     "output_type": "stream",
     "text": [
      "\n"
     ]
    }
   ],
   "source": [
    "for index, row in tqdm(df.iterrows(), total=len(df)):\n",
    "    all_game_titles = set(df[:index]['game_title'].tolist() + df[index+1:]['game_title'].tolist())\n",
    "    game_series = []\n",
    "    game_found = False\n",
    "    \n",
    "    # Identify games part of a series\n",
    "    for game in all_game_titles:\n",
    "        # Manual check for GTA / Elder Scrolls\n",
    "        if 'Grand Theft Auto' in row['game_title'] and 'Grand Theft Auto' in game\\\n",
    "        or 'The Elder Scrolls' in row['game_title'] and 'The Elder Scrolls' in game\\\n",
    "        or row['game_title'] in game:\n",
    "            game_found = True\n",
    "            game_series.append(game)\n",
    "    \n",
    "    if game_found:\n",
    "        game_series.append(row['game_title'])\n",
    "\n",
    "    # Add new genre tags to each game in series\n",
    "    series_df = df[df['game_title'].isin(game_series)]\n",
    "    series_genre_tags = set()\n",
    "    \n",
    "    def get_genre_tags(genre_list: list): \n",
    "        for tag in genre_list:\n",
    "            if tag in most_common_genres:\n",
    "                series_genre_tags.add(tag)\n",
    "\n",
    "    def overwrite_tags(genre_list: list, title: str) -> list:\n",
    "        return list(series_genre_tags) if title in game_series else genre_list\n",
    "\n",
    "    series_df['genre_tags'].apply(get_genre_tags)\n",
    "    df['genre_tags'] = df.apply(lambda x: overwrite_tags(x['genre_tags'], x['game_title']), axis=1)"
   ]
  },
  {
   "cell_type": "code",
   "execution_count": 61,
   "id": "62d07c49-d828-4c5f-8c4e-b2968f960e9d",
   "metadata": {},
   "outputs": [
    {
     "data": {
      "text/html": [
       "<div>\n",
       "<style scoped>\n",
       "    .dataframe tbody tr th:only-of-type {\n",
       "        vertical-align: middle;\n",
       "    }\n",
       "\n",
       "    .dataframe tbody tr th {\n",
       "        vertical-align: top;\n",
       "    }\n",
       "\n",
       "    .dataframe thead th {\n",
       "        text-align: right;\n",
       "    }\n",
       "</style>\n",
       "<table border=\"1\" class=\"dataframe\">\n",
       "  <thead>\n",
       "    <tr style=\"text-align: right;\">\n",
       "      <th></th>\n",
       "      <th>game_title</th>\n",
       "      <th>dev_team</th>\n",
       "      <th>platforms</th>\n",
       "      <th>primary_tags</th>\n",
       "      <th>keywords</th>\n",
       "      <th>game_summary</th>\n",
       "    </tr>\n",
       "  </thead>\n",
       "  <tbody>\n",
       "    <tr>\n",
       "      <th>1030</th>\n",
       "      <td>Super Mario Party</td>\n",
       "      <td>[Nintendo]</td>\n",
       "      <td>[Nintendo Switch]</td>\n",
       "      <td>[Card &amp; Board Game, Comedy, Kids, Party, Singl...</td>\n",
       "      <td>[casual, minigames, dice, donkey kong, unlocka...</td>\n",
       "      <td>Turn the tables on opponents as you race acros...</td>\n",
       "    </tr>\n",
       "    <tr>\n",
       "      <th>738</th>\n",
       "      <td>Quantum Break</td>\n",
       "      <td>[Remedy Entertainment, Microsoft Studios]</td>\n",
       "      <td>[PC (Microsoft Windows), Xbox One]</td>\n",
       "      <td>[Adventure, Shooter, Action, Science fiction, ...</td>\n",
       "      <td>[helicopter, time travel, time manipulation, f...</td>\n",
       "      <td>Fix Time Before It Destroys Everything!\\n\\nWhe...</td>\n",
       "    </tr>\n",
       "  </tbody>\n",
       "</table>\n",
       "</div>"
      ],
      "text/plain": [
       "             game_title                                   dev_team  \\\n",
       "1030  Super Mario Party                                 [Nintendo]   \n",
       "738       Quantum Break  [Remedy Entertainment, Microsoft Studios]   \n",
       "\n",
       "                               platforms  \\\n",
       "1030                   [Nintendo Switch]   \n",
       "738   [PC (Microsoft Windows), Xbox One]   \n",
       "\n",
       "                                           primary_tags  \\\n",
       "1030  [Card & Board Game, Comedy, Kids, Party, Singl...   \n",
       "738   [Adventure, Shooter, Action, Science fiction, ...   \n",
       "\n",
       "                                               keywords  \\\n",
       "1030  [casual, minigames, dice, donkey kong, unlocka...   \n",
       "738   [helicopter, time travel, time manipulation, f...   \n",
       "\n",
       "                                           game_summary  \n",
       "1030  Turn the tables on opponents as you race acros...  \n",
       "738   Fix Time Before It Destroys Everything!\\n\\nWhe...  "
      ]
     },
     "execution_count": 61,
     "metadata": {},
     "output_type": "execute_result"
    }
   ],
   "source": [
    "# Filter / re-order columns\n",
    "df = df.drop(columns=['game_modes', 'themes', 'storyline'])\n",
    "df = df.rename(columns={'genre_tags': 'primary_tags'})\n",
    "df = df[['game_title', 'dev_team', 'platforms', 'primary_tags', 'keywords', 'game_summary']]\n",
    "df.sample(2)"
   ]
  },
  {
   "cell_type": "markdown",
   "id": "0e056c6a-049a-47bd-b88d-5f655395544a",
   "metadata": {},
   "source": [
    "Save dataset:"
   ]
  },
  {
   "cell_type": "code",
   "execution_count": 62,
   "id": "fa10f9b5-626b-41e8-a369-28033a620a86",
   "metadata": {},
   "outputs": [],
   "source": [
    "df.to_csv('datasets/cleaned/new_games_CLEANED.csv', index=False)"
   ]
  }
 ],
 "metadata": {
  "kernelspec": {
   "display_name": "Python 3 (ipykernel)",
   "language": "python",
   "name": "python3"
  },
  "language_info": {
   "codemirror_mode": {
    "name": "ipython",
    "version": 3
   },
   "file_extension": ".py",
   "mimetype": "text/x-python",
   "name": "python",
   "nbconvert_exporter": "python",
   "pygments_lexer": "ipython3",
   "version": "3.9.5"
  }
 },
 "nbformat": 4,
 "nbformat_minor": 5
}
